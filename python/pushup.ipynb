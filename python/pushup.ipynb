{
 "cells": [
  {
   "cell_type": "code",
   "execution_count": 5,
   "metadata": {},
   "outputs": [],
   "source": [
    "import cv2\n",
    "import mediapipe as mp\n",
    "import numpy as np\n",
    "# !pip install imutils\n",
    "import imutils"
   ]
  },
  {
   "cell_type": "code",
   "execution_count": 6,
   "metadata": {},
   "outputs": [],
   "source": [
    "mp_drawing=mp.solutions.drawing_utils\n",
    "mp_drwaing_styles = mp.solutions.drawing_styles\n",
    "mp_pose=mp.solutions.pose\n",
    "count=0\n",
    "position = None\n",
    "pose = mp_pose.Pose(min_detection_confidence =0.7, min_tracking_confidence=0.7)"
   ]
  },
  {
   "cell_type": "code",
   "execution_count": 7,
   "metadata": {},
   "outputs": [],
   "source": [
    "def calculate_angle(a,b,c):\n",
    "    a=np.array(a)\n",
    "    b=np.array(b)\n",
    "    c = np.array(c)\n",
    "    radians = np.arctan2(c[1]-b[1],c[0]-b[0]) - np.arctan2(a[1]-b[1],a[0]-b[0])\n",
    "    angle = np.abs(radians*180.0/np.pi)\n",
    "    if angle>180.0:\n",
    "        angle = 360-angle\n",
    "    return angle"
   ]
  },
  {
   "cell_type": "code",
   "execution_count": 7,
   "metadata": {},
   "outputs": [],
   "source": [
    "\n",
    "\n",
    "def count_pushups(video_path):\n",
    "    cap = cv2.VideoCapture(0)\n",
    "\n",
    "    count = 0\n",
    "    position = \"up\"\n",
    "\n",
    "    with mp_pose.Pose(min_detection_confidence=0.7, min_tracking_confidence=0.7) as pose:\n",
    "        while cap.isOpened():\n",
    "            success, image = cap.read()\n",
    "\n",
    "            if not success:\n",
    "                print(\"Empty camera.\")\n",
    "                break\n",
    "\n",
    "            image = imutils.resize(image, width=500)\n",
    "            image = cv2.cvtColor(cv2.flip(image, 1), cv2.COLOR_BGR2RGB)\n",
    "            result = pose.process(image)\n",
    "            lmList = []\n",
    "\n",
    "            if result.pose_landmarks:\n",
    "                # Draws the landmarks' points and connects them\n",
    "               mp_draw.draw_landmarks(image, result.pose_landmarks, mp.pose.POSE_CONNECTIONS)\n",
    "\n",
    "                for id, im in enumerate(result.pose_landmarks.landmark):\n",
    "                    # Finding the length and width of the video input\n",
    "                    h, w, _ = image.shape\n",
    "\n",
    "                    # Finding the exact coordinates of the body points\n",
    "                    X, Y = int(im.x * w), int(im.y * h)\n",
    "                    lmList.append([id, X, Y])\n",
    "\n",
    "                if len(lmList) != 0:\n",
    "                    # Condition that identifies the down position\n",
    "                    if (lmList[12][2] and lmList[11][2] >= lmList[14][2] and lmList[13][2]):\n",
    "                        position = \"down\"\n",
    "\n",
    "                    # Condition that identifies the up position\n",
    "                    if (lmList[12][2] and lmList[11][2] <= lmList[14][2] and lmList[13][2]) and position == \"down\":\n",
    "                        position = \"up\"\n",
    "                        count += 1\n",
    "                        print(count)\n",
    "\n",
    "            cv2.imshow(\"Push-up counter\", cv2.flip(image, 1))\n",
    "            key = cv2.waitKey(1)\n",
    "\n",
    "            # Program terminates when q is pressed\n",
    "            if key == ord('q'):\n",
    "                break\n",
    "\n",
    "    cap.release()\n"
   ]
  },
  {
   "cell_type": "code",
   "execution_count": 9,
   "metadata": {},
   "outputs": [
    {
     "ename": "NameError",
     "evalue": "name 'mp_draw_landmarks' is not defined",
     "output_type": "error",
     "traceback": [
      "\u001b[1;31m---------------------------------------------------------------------------\u001b[0m",
      "\u001b[1;31mNameError\u001b[0m                                 Traceback (most recent call last)",
      "Cell \u001b[1;32mIn[9], line 1\u001b[0m\n\u001b[1;32m----> 1\u001b[0m count_pushups(\u001b[39mNone\u001b[39;49;00m)\n",
      "Cell \u001b[1;32mIn[7], line 22\u001b[0m, in \u001b[0;36mcount_pushups\u001b[1;34m(video_path)\u001b[0m\n\u001b[0;32m     18\u001b[0m lmList \u001b[39m=\u001b[39m []\n\u001b[0;32m     20\u001b[0m \u001b[39mif\u001b[39;00m result\u001b[39m.\u001b[39mpose_landmarks:\n\u001b[0;32m     21\u001b[0m     \u001b[39m# Draws the landmarks' points and connects them\u001b[39;00m\n\u001b[1;32m---> 22\u001b[0m     mp_draw_landmarks(image, result\u001b[39m.\u001b[39mpose_landmarks, mp\u001b[39m.\u001b[39mpose\u001b[39m.\u001b[39mPOSE_CONNECTIONS)\n\u001b[0;32m     24\u001b[0m     \u001b[39mfor\u001b[39;00m \u001b[39mid\u001b[39m, im \u001b[39min\u001b[39;00m \u001b[39menumerate\u001b[39m(result\u001b[39m.\u001b[39mpose_landmarks\u001b[39m.\u001b[39mlandmark):\n\u001b[0;32m     25\u001b[0m         \u001b[39m# Finding the length and width of the video input\u001b[39;00m\n\u001b[0;32m     26\u001b[0m         h, w, _ \u001b[39m=\u001b[39m image\u001b[39m.\u001b[39mshape\n",
      "\u001b[1;31mNameError\u001b[0m: name 'mp_draw_landmarks' is not defined"
     ]
    }
   ],
   "source": [
    "count_pushups(None)"
   ]
  }
 ],
 "metadata": {
  "kernelspec": {
   "display_name": "Python 3",
   "language": "python",
   "name": "python3"
  },
  "language_info": {
   "codemirror_mode": {
    "name": "ipython",
    "version": 3
   },
   "file_extension": ".py",
   "mimetype": "text/x-python",
   "name": "python",
   "nbconvert_exporter": "python",
   "pygments_lexer": "ipython3",
   "version": "3.10.5"
  },
  "orig_nbformat": 4
 },
 "nbformat": 4,
 "nbformat_minor": 2
}
