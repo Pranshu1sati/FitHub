{
 "cells": [
  {
   "cell_type": "code",
   "execution_count": 1,
   "metadata": {},
   "outputs": [],
   "source": [
    "import cv2\n",
    "import mediapipe as mp\n",
    "import numpy as np\n",
    "\n",
    "\n",
    "\n"
   ]
  },
  {
   "cell_type": "code",
   "execution_count": 2,
   "metadata": {},
   "outputs": [],
   "source": [
    "def calculate_angle(a,b,c):\n",
    "    a=np.array(a)\n",
    "    b=np.array(b)\n",
    "    c = np.array(c)\n",
    "    radians = np.arctan2(c[1]-b[1],c[0]-b[0]) - np.arctan2(a[1]-b[1],a[0]-b[0])\n",
    "    angle = np.abs(radians*180.0/np.pi)\n",
    "    if angle>180.0:\n",
    "        angle = 360-angle\n",
    "    return angle"
   ]
  },
  {
   "cell_type": "code",
   "execution_count": 6,
   "metadata": {},
   "outputs": [],
   "source": [
    "def Pushups():\n",
    "    up_pos = None\n",
    "    down_pos = None\n",
    "    pushup_pos = None\n",
    "    display_pos = None\n",
    "    push_up_counter = 0\n",
    "    mp_draw = mp.solutions.drawing_utils\n",
    "    mp_pose = mp.solutions.pose\n",
    "    \n",
    "    pose = mp_pose.Pose(min_detection_confidence=0.7,min_tracking_confidence=0.5)\n",
    "    cap = cv2.VideoCapture(0)\n",
    "    while cap.isOpened():\n",
    "        ret,frames=cap.read()\n",
    "        image =cv2.cvtColor(cv2.flip(frames,1),cv2.COLOR_BGR2RGB)\n",
    "        image.flags.writeable = False\n",
    "        result = pose.process(image)\n",
    "        image.flags.writeable=True\n",
    "        \n",
    "        if result.pose_landmarks:\n",
    "            landmarks = result.pose_landmarks.landmark\n",
    "            Left_shoulder = [landmarks[mp_pose.PoseLandmark.LEFT_SHOULDER.value].x,landmarks[mp_pose.PoseLandmark.LEFT_SHOULDER.value].y]\n",
    "            Left_elbow = [landmarks[mp_pose.PoseLandmark.LEFT_ELBOW.value].x,landmarks[mp_pose.PoseLandmark.LEFT_ELBOW.value].y]\n",
    "            Left_wrist = [landmarks[mp_pose.PoseLandmark.LEFT_WRIST.value].x,landmarks[mp_pose.PoseLandmark.LEFT_WRIST.value].y]\n",
    "            Right_shoulder = [landmarks[mp_pose.PoseLandmark.RIGHT_SHOULDER.value].x,landmarks[mp_pose.PoseLandmark.RIGHT_SHOULDER.value].y]\n",
    "            Right_elbow = [landmarks[mp_pose.PoseLandmark.RIGHT_ELBOW.value].x,landmarks[mp_pose.PoseLandmark.RIGHT_ELBOW.value].y]\n",
    "            Right_wrist = [landmarks[mp_pose.PoseLandmark.RIGHT_WRIST.value].x,landmarks[mp_pose.PoseLandmark.RIGHT_WRIST.value].y]\n",
    "            left_arm_angle = int(calculate_angle(Left_shoulder, Left_elbow, Left_wrist))\n",
    "            right_arm_angle = int(calculate_angle(Right_shoulder, Right_elbow, Right_wrist))\n",
    "\n",
    "            left_hip = [landmarks[mp_pose.PoseLandmark.LEFT_HIP.value].x,landmarks[mp_pose.PoseLandmark.LEFT_HIP.value].y]\n",
    "            right_hip = [landmarks[mp_pose.PoseLandmark.RIGHT_HIP.value].x,landmarks[mp_pose.PoseLandmark.RIGHT_HIP.value].y]\n",
    "            left_knee = [landmarks[mp_pose.PoseLandmark.LEFT_KNEE.value].x,landmarks[mp_pose.PoseLandmark.LEFT_KNEE.value].y]\n",
    "            right_knee = [landmarks[mp_pose.PoseLandmark.RIGHT_KNEE.value].x,landmarks[mp_pose.PoseLandmark.RIGHT_KNEE.value].y]\n",
    "            left_ankle = [landmarks[mp_pose.PoseLandmark.LEFT_ANKLE.value].x,landmarks[mp_pose.PoseLandmark.LEFT_ANKLE.value].y]\n",
    "            right_ankle = [landmarks[mp_pose.PoseLandmark.RIGHT_ANKLE.value].x,landmarks[mp_pose.PoseLandmark.RIGHT_ANKLE.value].y]\n",
    "            left_leg_angle = int(calculate_angle(left_hip, left_knee, left_ankle))\n",
    "            right_leg_angle = int(calculate_angle(right_hip, right_knee, right_ankle))\n",
    "            \n",
    "\n",
    "            if left_arm_angle > 160 and left_leg_angle >160:\n",
    "                up_pos = 'Up'\n",
    "                display_pos = 'Up'\n",
    "\n",
    "            if left_arm_angle < 110 and up_pos == 'Up':\n",
    "                down_pos = 'Down'\n",
    "                display_pos = 'Down'    \n",
    "\n",
    "            if left_arm_angle > 160 and down_pos == 'Down':\n",
    "\n",
    "                pushup_pos = \"up\"\n",
    "                display_pos = \"up\"\n",
    "                push_up_counter += 1\n",
    "\n",
    "                up_pos = None\n",
    "                down_pos = None\n",
    "                pushup_pos = None  \n",
    "            mp_draw.draw_landmarks(image, result.pose_landmarks,mp_pose.POSE_CONNECTIONS)\n",
    "            cv2.putText(image, str(push_up_counter), (15,12), \n",
    "                    cv2.FONT_HERSHEY_SIMPLEX, 0.5, (0,0,0), 1, cv2.LINE_AA)\n",
    "        cv2.imshow('Feed',cv2.cvtColor(image,cv2.COLOR_RGB2BGR))\n",
    "        if cv2.waitKey(10) & 0xFF == ord('q'):\n",
    "            break\n",
    "\n",
    "    cap.release()\n",
    "    cv2.destroyAllWindows()\n",
    "  "
   ]
  },
  {
   "cell_type": "code",
   "execution_count": 7,
   "metadata": {},
   "outputs": [],
   "source": [
    "Pushups()"
   ]
  }
 ],
 "metadata": {
  "kernelspec": {
   "display_name": "Python 3",
   "language": "python",
   "name": "python3"
  },
  "language_info": {
   "codemirror_mode": {
    "name": "ipython",
    "version": 3
   },
   "file_extension": ".py",
   "mimetype": "text/x-python",
   "name": "python",
   "nbconvert_exporter": "python",
   "pygments_lexer": "ipython3",
   "version": "3.10.5"
  },
  "orig_nbformat": 4
 },
 "nbformat": 4,
 "nbformat_minor": 2
}
